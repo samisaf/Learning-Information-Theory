{
 "cells": [
  {
   "cell_type": "markdown",
   "source": [
    "# The Bent Coin Lottery Problem\n",
    "\n",
    "A coin with $pH=0.1$ will be tossed $N=1000$ times. The outcome is $x=x1x...xN$. e.g. $x = 0001000...10$\n",
    "You can buy any of the $2^N$ possible tickets for 1 dollar each before the coin-tossing. If you buy your own ticket x, you win 1 million dollars\n",
    "\n",
    "-If you are forced to buy one ticket, which one would you buy?\n",
    "\n",
    "-To have a 99% chance of winning at lowest possible cost, which tickets would you buy?\n",
    "\n",
    "-And how many tickets is that (expressed in the form $2^-$)?"
   ],
   "metadata": {
    "collapsed": false
   }
  },
  {
   "cell_type": "markdown",
   "source": [
    "## If you are forced to buy one ticket, which one would you buy?\n",
    "Mean of the binomial distribution\n",
    "All tail\n",
    "\n",
    "## To have a 99% chance of winning at lowest possible cost, which tickets would you buy?\n",
    "3\n"
   ],
   "metadata": {
    "collapsed": false
   }
  }
 ],
 "metadata": {
  "kernelspec": {
   "display_name": "Python 3",
   "language": "python",
   "name": "python3"
  },
  "language_info": {
   "codemirror_mode": {
    "name": "ipython",
    "version": 2
   },
   "file_extension": ".py",
   "mimetype": "text/x-python",
   "name": "python",
   "nbconvert_exporter": "python",
   "pygments_lexer": "ipython2",
   "version": "2.7.6"
  }
 },
 "nbformat": 4,
 "nbformat_minor": 0
}
